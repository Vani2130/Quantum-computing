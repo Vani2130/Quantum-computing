{
  "nbformat": 4,
  "nbformat_minor": 0,
  "metadata": {
    "colab": {
      "provenance": [],
      "authorship_tag": "ABX9TyNihrl+rNtwpQ3AuTuWswk9",
      "include_colab_link": true
    },
    "kernelspec": {
      "name": "python3",
      "display_name": "Python 3"
    },
    "language_info": {
      "name": "python"
    }
  },
  "cells": [
    {
      "cell_type": "markdown",
      "metadata": {
        "id": "view-in-github",
        "colab_type": "text"
      },
      "source": [
        "<a href=\"https://colab.research.google.com/github/Vani2130/Quantum-computing/blob/main/3qubit.ipynb\" target=\"_parent\"><img src=\"https://colab.research.google.com/assets/colab-badge.svg\" alt=\"Open In Colab\"/></a>"
      ]
    },
    {
      "cell_type": "code",
      "execution_count": null,
      "metadata": {
        "id": "ZxU80dT2T1tR"
      },
      "outputs": [],
      "source": [
        "import numpy as np\n",
        "import sympy as sp\n",
        "def partial_transpose(rho,dimA,dimB):\n",
        "    rho_tensor=np.array(rho).reshape((dimA,dimB,dimA,dimB))\n",
        "    rho_pt_tensor=rho_tensor.transpose(0,2,1,3)\n",
        "    rho_pt=rho_pt_tensor.reshape((dimA*dimB, dimA*dimB))\n",
        "    return sp.Matrix(rho_pt)"
      ]
    },
    {
      "cell_type": "code",
      "source": [
        "symbols = sp.symbols(' '.join(f'A{i}{j}' for i in range(1, 9) for j in range(1, 9)))"
      ],
      "metadata": {
        "id": "RHxCedmWiWwo"
      },
      "execution_count": null,
      "outputs": []
    },
    {
      "cell_type": "code",
      "source": [
        "rho = sp.Matrix(8, 8, symbols)"
      ],
      "metadata": {
        "id": "fvaOd1Yyiekw"
      },
      "execution_count": 10,
      "outputs": []
    },
    {
      "cell_type": "code",
      "source": [
        "dimA=4\n",
        "dimB=2"
      ],
      "metadata": {
        "id": "nQSmU1kkfwh0"
      },
      "execution_count": null,
      "outputs": []
    },
    {
      "cell_type": "code",
      "source": [
        "rho_pt = partial_transpose(rho, dimA, dimB)"
      ],
      "metadata": {
        "id": "KoAbQoSamk_i"
      },
      "execution_count": 13,
      "outputs": []
    },
    {
      "cell_type": "code",
      "source": [
        "eigenvalues = rho_pt.eigenvals()"
      ],
      "metadata": {
        "id": "k4JSYSmvmrJz"
      },
      "execution_count": null,
      "outputs": []
    }
  ]
}