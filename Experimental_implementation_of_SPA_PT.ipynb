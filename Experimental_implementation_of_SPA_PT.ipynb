{
  "nbformat": 4,
  "nbformat_minor": 0,
  "metadata": {
    "colab": {
      "provenance": [],
      "authorship_tag": "ABX9TyPTem6Rq2egAg2w3MxoGllP",
      "include_colab_link": true
    },
    "kernelspec": {
      "name": "python3",
      "display_name": "Python 3"
    },
    "language_info": {
      "name": "python"
    }
  },
  "cells": [
    {
      "cell_type": "markdown",
      "metadata": {
        "id": "view-in-github",
        "colab_type": "text"
      },
      "source": [
        "<a href=\"https://colab.research.google.com/github/Vani2130/Quantum-computing/blob/main/Experimental_implementation_of_SPA_PT.ipynb\" target=\"_parent\"><img src=\"https://colab.research.google.com/assets/colab-badge.svg\" alt=\"Open In Colab\"/></a>"
      ]
    },
    {
      "cell_type": "code",
      "execution_count": 1,
      "metadata": {
        "colab": {
          "base_uri": "https://localhost:8080/"
        },
        "id": "BRr-ttD9Zerz",
        "outputId": "4379a059-b75e-4d37-ba53-94959ada6394"
      },
      "outputs": [
        {
          "output_type": "stream",
          "name": "stdout",
          "text": [
            "Density Matrix:\n",
            "[[0.5+0.j 0. +0.j 0. +0.j 0. +0.j 0. +0.j 0. +0.j 0. +0.j 0.5+0.j]\n",
            " [0. +0.j 0. +0.j 0. +0.j 0. +0.j 0. +0.j 0. +0.j 0. +0.j 0. +0.j]\n",
            " [0. +0.j 0. +0.j 0. +0.j 0. +0.j 0. +0.j 0. +0.j 0. +0.j 0. +0.j]\n",
            " [0. +0.j 0. +0.j 0. +0.j 0. +0.j 0. +0.j 0. +0.j 0. +0.j 0. +0.j]\n",
            " [0. +0.j 0. +0.j 0. +0.j 0. +0.j 0. +0.j 0. +0.j 0. +0.j 0. +0.j]\n",
            " [0. +0.j 0. +0.j 0. +0.j 0. +0.j 0. +0.j 0. +0.j 0. +0.j 0. +0.j]\n",
            " [0. +0.j 0. +0.j 0. +0.j 0. +0.j 0. +0.j 0. +0.j 0. +0.j 0. +0.j]\n",
            " [0.5+0.j 0. +0.j 0. +0.j 0. +0.j 0. +0.j 0. +0.j 0. +0.j 0.5+0.j]]\n"
          ]
        }
      ],
      "source": [
        "import numpy as np\n",
        "\n",
        "# Define the basis states for 3 qubits\n",
        "basis_states = [\n",
        "    np.array([1, 0, 0, 0, 0, 0, 0, 0]), # |000>\n",
        "    np.array([0, 1, 0, 0, 0, 0, 0, 0]), # |001>\n",
        "    np.array([0, 0, 1, 0, 0, 0, 0, 0]), # |010>\n",
        "    np.array([0, 0, 0, 1, 0, 0, 0, 0]), # |011>\n",
        "    np.array([0, 0, 0, 0, 1, 0, 0, 0]), # |100>\n",
        "    np.array([0, 0, 0, 0, 0, 1, 0, 0]), # |101>\n",
        "    np.array([0, 0, 0, 0, 0, 0, 1, 0]), # |110>\n",
        "    np.array([0, 0, 0, 0, 0, 0, 0, 1])  # |111>\n",
        "]\n",
        "\n",
        "# Define a function to create a density matrix from a pure state\n",
        "def create_density_matrix(state_vector):\n",
        "    state_vector = np.array(state_vector, dtype=complex)\n",
        "    return np.outer(state_vector, state_vector.conj())\n",
        "\n",
        "# Example: Define a superposition state (|000> + |111>) / sqrt(2)\n",
        "superposition_state = (basis_states[0] + basis_states[7]) / np.sqrt(2)\n",
        "\n",
        "# Create the density matrix for this state\n",
        "density_matrix = create_density_matrix(superposition_state)\n",
        "\n",
        "# Print the density matrix\n",
        "print(\"Density Matrix:\")\n",
        "print(density_matrix)\n"
      ]
    },
    {
      "cell_type": "code",
      "source": [
        "import numpy as np\n",
        "\n",
        "# Define Pauli matrices\n",
        "I = np.eye(2)\n",
        "T = np.array([[1, 0], [0, 1]]) # Transpose operation for single qubit (here it's just identity, since T is the transpose operation)\n",
        "\n",
        "# Define the Kronecker product for three qubits\n",
        "I_3 = np.kron(np.kron(I, I), I)\n",
        "T_3 = np.kron(np.kron(T, I), I)\n",
        "\n",
        "# Coefficients for the operators\n",
        "coeff1 = 1/10\n",
        "coeff2 = 1/5\n",
        "\n",
        "# Example: Define the initial density matrix ρABC\n",
        "# Here we use the pure state (|000⟩ + |111⟩) / sqrt(2) as an example\n",
        "basis_states = [\n",
        "    np.array([1, 0, 0, 0, 0, 0, 0, 0]),\n",
        "    np.array([0, 1, 0, 0, 0, 0, 0, 0]),\n",
        "    np.array([0, 0, 1, 0, 0, 0, 0, 0]),\n",
        "    np.array([0, 0, 0, 1, 0, 0, 0, 0]),\n",
        "    np.array([0, 0, 0, 0, 1, 0, 0, 0]),\n",
        "    np.array([0, 0, 0, 0, 0, 1, 0, 0]),\n",
        "    np.array([0, 0, 0, 0, 0, 0, 1, 0]),\n",
        "    np.array([0, 0, 0, 0, 0, 0, 0, 1])\n",
        "]\n",
        "\n",
        "# Define a superposition state (|000⟩ + |111⟩) / sqrt(2)\n",
        "superposition_state = (basis_states[0] + basis_states[7]) / np.sqrt(2)\n",
        "\n",
        "# Create the density matrix for this state\n",
        "def create_density_matrix(state_vector):\n",
        "    state_vector = np.array(state_vector, dtype=complex)\n",
        "    return np.outer(state_vector, state_vector.conj())\n",
        "\n",
        "rho_ABC = create_density_matrix(superposition_state)\n",
        "\n",
        "# Apply the SPA-PT map to the density matrix\n",
        "rho_A_prime = coeff1 * (np.kron(I, np.kron(I, I)) @ rho_ABC @ np.kron(I, np.kron(I, I)).conj().T) + coeff2 * (np.kron(T, np.kron(I, I)) @ rho_ABC @ np.kron(T, np.kron(I, I)).conj().T)\n",
        "\n",
        "# Print the resulting density matrix ρA′\n",
        "print(\"Density Matrix ρA′:\")\n",
        "print(rho_A_prime)\n"
      ],
      "metadata": {
        "colab": {
          "base_uri": "https://localhost:8080/"
        },
        "id": "tnrc2AA0eL1D",
        "outputId": "ead8d95d-d1b7-4c34-adbb-492b8eb689c9"
      },
      "execution_count": 2,
      "outputs": [
        {
          "output_type": "stream",
          "name": "stdout",
          "text": [
            "Density Matrix ρA′:\n",
            "[[0.15+0.j 0.  +0.j 0.  +0.j 0.  +0.j 0.  +0.j 0.  +0.j 0.  +0.j 0.15+0.j]\n",
            " [0.  +0.j 0.  +0.j 0.  +0.j 0.  +0.j 0.  +0.j 0.  +0.j 0.  +0.j 0.  +0.j]\n",
            " [0.  +0.j 0.  +0.j 0.  +0.j 0.  +0.j 0.  +0.j 0.  +0.j 0.  +0.j 0.  +0.j]\n",
            " [0.  +0.j 0.  +0.j 0.  +0.j 0.  +0.j 0.  +0.j 0.  +0.j 0.  +0.j 0.  +0.j]\n",
            " [0.  +0.j 0.  +0.j 0.  +0.j 0.  +0.j 0.  +0.j 0.  +0.j 0.  +0.j 0.  +0.j]\n",
            " [0.  +0.j 0.  +0.j 0.  +0.j 0.  +0.j 0.  +0.j 0.  +0.j 0.  +0.j 0.  +0.j]\n",
            " [0.  +0.j 0.  +0.j 0.  +0.j 0.  +0.j 0.  +0.j 0.  +0.j 0.  +0.j 0.  +0.j]\n",
            " [0.15+0.j 0.  +0.j 0.  +0.j 0.  +0.j 0.  +0.j 0.  +0.j 0.  +0.j 0.15+0.j]]\n"
          ]
        }
      ]
    },
    {
      "cell_type": "code",
      "source": [
        "import numpy as np\n",
        "\n",
        "# Define the density matrix ρA' from the previous calculation\n",
        "# (Using the same ρA' from the previous example)\n",
        "def create_density_matrix(state_vector):\n",
        "    state_vector = np.array(state_vector, dtype=complex)\n",
        "    return np.outer(state_vector, state_vector.conj())\n",
        "\n",
        "# Define Pauli matrices\n",
        "I = np.eye(2)\n",
        "T = np.array([[1, 0], [0, 1]]) # Transpose operation for single qubit (here it's just identity, since T is the transpose operation)\n",
        "\n",
        "# Define the Kronecker product for three qubits\n",
        "I_3 = np.kron(np.kron(I, I), I)\n",
        "T_3 = np.kron(np.kron(T, I), I)\n",
        "\n",
        "# Coefficients for the operators\n",
        "coeff1 = 1/10\n",
        "coeff2 = 1/5\n",
        "\n",
        "# Example: Define the initial density matrix ρABC\n",
        "# Here we use the pure state (|000⟩ + |111⟩) / sqrt(2) as an example\n",
        "basis_states = [\n",
        "    np.array([1, 0, 0, 0, 0, 0, 0, 0]),\n",
        "    np.array([0, 1, 0, 0, 0, 0, 0, 0]),\n",
        "    np.array([0, 0, 1, 0, 0, 0, 0, 0]),\n",
        "    np.array([0, 0, 0, 1, 0, 0, 0, 0]),\n",
        "    np.array([0, 0, 0, 0, 1, 0, 0, 0]),\n",
        "    np.array([0, 0, 0, 0, 0, 1, 0, 0]),\n",
        "    np.array([0, 0, 0, 0, 0, 0, 1, 0]),\n",
        "    np.array([0, 0, 0, 0, 0, 0, 0, 1])\n",
        "]\n",
        "\n",
        "# Define a superposition state (|000⟩ + |111⟩) / sqrt(2)\n",
        "superposition_state = (basis_states[0] + basis_states[7]) / np.sqrt(2)\n",
        "\n",
        "# Create the density matrix for this state\n",
        "rho_ABC = create_density_matrix(superposition_state)\n",
        "\n",
        "# Apply the SPA-PT map to the density matrix\n",
        "rho_A_prime = coeff1 * (np.kron(I, np.kron(I, I)) @ rho_ABC @ np.kron(I, np.kron(I, I)).conj().T) + coeff2 * (np.kron(T, np.kron(I, I)) @ rho_ABC @ np.kron(T, np.kron(I, I)).conj().T)\n",
        "\n",
        "# Print the resulting density matrix ρA′\n",
        "print(\"Density Matrix ρA′:\")\n",
        "print(rho_A_prime)\n",
        "\n",
        "# Perform eigen decomposition\n",
        "eigenvalues, eigenvectors = np.linalg.eigh(rho_A_prime)\n",
        "\n",
        "# Print the eigenvalues\n",
        "print(\"Eigenvalues:\")\n",
        "print(eigenvalues)\n",
        "\n",
        "# Construct and print the projection operators\n",
        "projection_operators = []\n",
        "for i in range(len(eigenvalues)):\n",
        "    eigvec = eigenvectors[:, i]\n",
        "    projection_operator = np.outer(eigvec, eigvec.conj())\n",
        "    projection_operators.append(projection_operator)\n",
        "    print(f\"Projection Operator {i+1}:\")\n",
        "    print(projection_operator)\n"
      ],
      "metadata": {
        "colab": {
          "base_uri": "https://localhost:8080/"
        },
        "id": "O9s2SGHzev8P",
        "outputId": "22b4139b-b39b-4302-b1c6-7a4d7d330dce"
      },
      "execution_count": 3,
      "outputs": [
        {
          "output_type": "stream",
          "name": "stdout",
          "text": [
            "Density Matrix ρA′:\n",
            "[[0.15+0.j 0.  +0.j 0.  +0.j 0.  +0.j 0.  +0.j 0.  +0.j 0.  +0.j 0.15+0.j]\n",
            " [0.  +0.j 0.  +0.j 0.  +0.j 0.  +0.j 0.  +0.j 0.  +0.j 0.  +0.j 0.  +0.j]\n",
            " [0.  +0.j 0.  +0.j 0.  +0.j 0.  +0.j 0.  +0.j 0.  +0.j 0.  +0.j 0.  +0.j]\n",
            " [0.  +0.j 0.  +0.j 0.  +0.j 0.  +0.j 0.  +0.j 0.  +0.j 0.  +0.j 0.  +0.j]\n",
            " [0.  +0.j 0.  +0.j 0.  +0.j 0.  +0.j 0.  +0.j 0.  +0.j 0.  +0.j 0.  +0.j]\n",
            " [0.  +0.j 0.  +0.j 0.  +0.j 0.  +0.j 0.  +0.j 0.  +0.j 0.  +0.j 0.  +0.j]\n",
            " [0.  +0.j 0.  +0.j 0.  +0.j 0.  +0.j 0.  +0.j 0.  +0.j 0.  +0.j 0.  +0.j]\n",
            " [0.15+0.j 0.  +0.j 0.  +0.j 0.  +0.j 0.  +0.j 0.  +0.j 0.  +0.j 0.15+0.j]]\n",
            "Eigenvalues:\n",
            "[0.  0.  0.  0.  0.  0.  0.  0.3]\n",
            "Projection Operator 1:\n",
            "[[ 0.5+0.j  0. +0.j  0. +0.j  0. +0.j  0. +0.j  0. +0.j  0. +0.j -0.5+0.j]\n",
            " [ 0. -0.j  0. +0.j  0. +0.j  0. +0.j  0. +0.j  0. +0.j  0. +0.j  0. +0.j]\n",
            " [ 0. -0.j  0. +0.j  0. +0.j  0. +0.j  0. +0.j  0. +0.j  0. +0.j  0. +0.j]\n",
            " [ 0. -0.j  0. +0.j  0. +0.j  0. +0.j  0. +0.j  0. +0.j  0. +0.j  0. +0.j]\n",
            " [ 0. -0.j  0. +0.j  0. +0.j  0. +0.j  0. +0.j  0. +0.j  0. +0.j  0. +0.j]\n",
            " [ 0. -0.j  0. +0.j  0. +0.j  0. +0.j  0. +0.j  0. +0.j  0. +0.j  0. +0.j]\n",
            " [ 0. -0.j  0. +0.j  0. +0.j  0. +0.j  0. +0.j  0. +0.j  0. +0.j  0. +0.j]\n",
            " [-0.5-0.j  0. +0.j  0. +0.j  0. +0.j  0. +0.j  0. +0.j  0. +0.j  0.5+0.j]]\n",
            "Projection Operator 2:\n",
            "[[0.+0.j 0.+0.j 0.+0.j 0.+0.j 0.+0.j 0.+0.j 0.+0.j 0.+0.j]\n",
            " [0.+0.j 0.+0.j 0.+0.j 0.+0.j 0.+0.j 0.+0.j 0.+0.j 0.+0.j]\n",
            " [0.+0.j 0.+0.j 1.+0.j 0.+0.j 0.+0.j 0.+0.j 0.+0.j 0.+0.j]\n",
            " [0.+0.j 0.+0.j 0.+0.j 0.+0.j 0.+0.j 0.+0.j 0.+0.j 0.+0.j]\n",
            " [0.+0.j 0.+0.j 0.+0.j 0.+0.j 0.+0.j 0.+0.j 0.+0.j 0.+0.j]\n",
            " [0.+0.j 0.+0.j 0.+0.j 0.+0.j 0.+0.j 0.+0.j 0.+0.j 0.+0.j]\n",
            " [0.+0.j 0.+0.j 0.+0.j 0.+0.j 0.+0.j 0.+0.j 0.+0.j 0.+0.j]\n",
            " [0.+0.j 0.+0.j 0.+0.j 0.+0.j 0.+0.j 0.+0.j 0.+0.j 0.+0.j]]\n",
            "Projection Operator 3:\n",
            "[[0.+0.j 0.+0.j 0.+0.j 0.+0.j 0.+0.j 0.+0.j 0.+0.j 0.+0.j]\n",
            " [0.+0.j 0.+0.j 0.+0.j 0.+0.j 0.+0.j 0.+0.j 0.+0.j 0.+0.j]\n",
            " [0.+0.j 0.+0.j 0.+0.j 0.+0.j 0.+0.j 0.+0.j 0.+0.j 0.+0.j]\n",
            " [0.+0.j 0.+0.j 0.+0.j 1.+0.j 0.+0.j 0.+0.j 0.+0.j 0.+0.j]\n",
            " [0.+0.j 0.+0.j 0.+0.j 0.+0.j 0.+0.j 0.+0.j 0.+0.j 0.+0.j]\n",
            " [0.+0.j 0.+0.j 0.+0.j 0.+0.j 0.+0.j 0.+0.j 0.+0.j 0.+0.j]\n",
            " [0.+0.j 0.+0.j 0.+0.j 0.+0.j 0.+0.j 0.+0.j 0.+0.j 0.+0.j]\n",
            " [0.+0.j 0.+0.j 0.+0.j 0.+0.j 0.+0.j 0.+0.j 0.+0.j 0.+0.j]]\n",
            "Projection Operator 4:\n",
            "[[0.+0.j 0.+0.j 0.+0.j 0.+0.j 0.+0.j 0.+0.j 0.+0.j 0.+0.j]\n",
            " [0.+0.j 0.+0.j 0.+0.j 0.+0.j 0.+0.j 0.+0.j 0.+0.j 0.+0.j]\n",
            " [0.+0.j 0.+0.j 0.+0.j 0.+0.j 0.+0.j 0.+0.j 0.+0.j 0.+0.j]\n",
            " [0.+0.j 0.+0.j 0.+0.j 0.+0.j 0.+0.j 0.+0.j 0.+0.j 0.+0.j]\n",
            " [0.+0.j 0.+0.j 0.+0.j 0.+0.j 1.+0.j 0.+0.j 0.+0.j 0.+0.j]\n",
            " [0.+0.j 0.+0.j 0.+0.j 0.+0.j 0.+0.j 0.+0.j 0.+0.j 0.+0.j]\n",
            " [0.+0.j 0.+0.j 0.+0.j 0.+0.j 0.+0.j 0.+0.j 0.+0.j 0.+0.j]\n",
            " [0.+0.j 0.+0.j 0.+0.j 0.+0.j 0.+0.j 0.+0.j 0.+0.j 0.+0.j]]\n",
            "Projection Operator 5:\n",
            "[[0.+0.j 0.+0.j 0.+0.j 0.+0.j 0.+0.j 0.+0.j 0.+0.j 0.+0.j]\n",
            " [0.+0.j 0.+0.j 0.+0.j 0.+0.j 0.+0.j 0.+0.j 0.+0.j 0.+0.j]\n",
            " [0.+0.j 0.+0.j 0.+0.j 0.+0.j 0.+0.j 0.+0.j 0.+0.j 0.+0.j]\n",
            " [0.+0.j 0.+0.j 0.+0.j 0.+0.j 0.+0.j 0.+0.j 0.+0.j 0.+0.j]\n",
            " [0.+0.j 0.+0.j 0.+0.j 0.+0.j 0.+0.j 0.+0.j 0.+0.j 0.+0.j]\n",
            " [0.+0.j 0.+0.j 0.+0.j 0.+0.j 0.+0.j 1.+0.j 0.+0.j 0.+0.j]\n",
            " [0.+0.j 0.+0.j 0.+0.j 0.+0.j 0.+0.j 0.+0.j 0.+0.j 0.+0.j]\n",
            " [0.+0.j 0.+0.j 0.+0.j 0.+0.j 0.+0.j 0.+0.j 0.+0.j 0.+0.j]]\n",
            "Projection Operator 6:\n",
            "[[0.+0.j 0.+0.j 0.+0.j 0.+0.j 0.+0.j 0.+0.j 0.+0.j 0.+0.j]\n",
            " [0.+0.j 0.+0.j 0.+0.j 0.+0.j 0.+0.j 0.+0.j 0.+0.j 0.+0.j]\n",
            " [0.+0.j 0.+0.j 0.+0.j 0.+0.j 0.+0.j 0.+0.j 0.+0.j 0.+0.j]\n",
            " [0.+0.j 0.+0.j 0.+0.j 0.+0.j 0.+0.j 0.+0.j 0.+0.j 0.+0.j]\n",
            " [0.+0.j 0.+0.j 0.+0.j 0.+0.j 0.+0.j 0.+0.j 0.+0.j 0.+0.j]\n",
            " [0.+0.j 0.+0.j 0.+0.j 0.+0.j 0.+0.j 0.+0.j 0.+0.j 0.+0.j]\n",
            " [0.+0.j 0.+0.j 0.+0.j 0.+0.j 0.+0.j 0.+0.j 1.+0.j 0.+0.j]\n",
            " [0.+0.j 0.+0.j 0.+0.j 0.+0.j 0.+0.j 0.+0.j 0.+0.j 0.+0.j]]\n",
            "Projection Operator 7:\n",
            "[[0.+0.j 0.-0.j 0.+0.j 0.+0.j 0.+0.j 0.+0.j 0.+0.j 0.+0.j]\n",
            " [0.+0.j 1.+0.j 0.+0.j 0.+0.j 0.+0.j 0.+0.j 0.+0.j 0.+0.j]\n",
            " [0.+0.j 0.-0.j 0.+0.j 0.+0.j 0.+0.j 0.+0.j 0.+0.j 0.+0.j]\n",
            " [0.+0.j 0.-0.j 0.+0.j 0.+0.j 0.+0.j 0.+0.j 0.+0.j 0.+0.j]\n",
            " [0.+0.j 0.-0.j 0.+0.j 0.+0.j 0.+0.j 0.+0.j 0.+0.j 0.+0.j]\n",
            " [0.+0.j 0.-0.j 0.+0.j 0.+0.j 0.+0.j 0.+0.j 0.+0.j 0.+0.j]\n",
            " [0.+0.j 0.-0.j 0.+0.j 0.+0.j 0.+0.j 0.+0.j 0.+0.j 0.+0.j]\n",
            " [0.+0.j 0.-0.j 0.+0.j 0.+0.j 0.+0.j 0.+0.j 0.+0.j 0.+0.j]]\n",
            "Projection Operator 8:\n",
            "[[0.5+0.j 0. +0.j 0. +0.j 0. +0.j 0. +0.j 0. +0.j 0. +0.j 0.5+0.j]\n",
            " [0. -0.j 0. +0.j 0. +0.j 0. +0.j 0. +0.j 0. +0.j 0. +0.j 0. -0.j]\n",
            " [0. -0.j 0. +0.j 0. +0.j 0. +0.j 0. +0.j 0. +0.j 0. +0.j 0. -0.j]\n",
            " [0. -0.j 0. +0.j 0. +0.j 0. +0.j 0. +0.j 0. +0.j 0. +0.j 0. -0.j]\n",
            " [0. -0.j 0. +0.j 0. +0.j 0. +0.j 0. +0.j 0. +0.j 0. +0.j 0. -0.j]\n",
            " [0. -0.j 0. +0.j 0. +0.j 0. +0.j 0. +0.j 0. +0.j 0. +0.j 0. -0.j]\n",
            " [0. -0.j 0. +0.j 0. +0.j 0. +0.j 0. +0.j 0. +0.j 0. +0.j 0. -0.j]\n",
            " [0.5+0.j 0. +0.j 0. +0.j 0. +0.j 0. +0.j 0. +0.j 0. +0.j 0.5+0.j]]\n"
          ]
        }
      ]
    },
    {
      "cell_type": "code",
      "source": [
        "pip install qiskit-aer\n"
      ],
      "metadata": {
        "colab": {
          "base_uri": "https://localhost:8080/"
        },
        "id": "Nv99dGPhLXJN",
        "outputId": "7f6b593f-6564-485a-fdab-201524c9f52c"
      },
      "execution_count": 2,
      "outputs": [
        {
          "output_type": "stream",
          "name": "stdout",
          "text": [
            "Requirement already satisfied: qiskit-aer in /usr/local/lib/python3.10/dist-packages (0.14.2)\n",
            "Requirement already satisfied: qiskit>=0.45.2 in /usr/local/lib/python3.10/dist-packages (from qiskit-aer) (1.1.1)\n",
            "Requirement already satisfied: numpy>=1.16.3 in /usr/local/lib/python3.10/dist-packages (from qiskit-aer) (1.25.2)\n",
            "Requirement already satisfied: scipy>=1.0 in /usr/local/lib/python3.10/dist-packages (from qiskit-aer) (1.11.4)\n",
            "Requirement already satisfied: psutil>=5 in /usr/local/lib/python3.10/dist-packages (from qiskit-aer) (5.9.5)\n",
            "Requirement already satisfied: rustworkx>=0.14.0 in /usr/local/lib/python3.10/dist-packages (from qiskit>=0.45.2->qiskit-aer) (0.15.1)\n",
            "Requirement already satisfied: sympy>=1.3 in /usr/local/lib/python3.10/dist-packages (from qiskit>=0.45.2->qiskit-aer) (1.12.1)\n",
            "Requirement already satisfied: dill>=0.3 in /usr/local/lib/python3.10/dist-packages (from qiskit>=0.45.2->qiskit-aer) (0.3.8)\n",
            "Requirement already satisfied: python-dateutil>=2.8.0 in /usr/local/lib/python3.10/dist-packages (from qiskit>=0.45.2->qiskit-aer) (2.8.2)\n",
            "Requirement already satisfied: stevedore>=3.0.0 in /usr/local/lib/python3.10/dist-packages (from qiskit>=0.45.2->qiskit-aer) (5.2.0)\n",
            "Requirement already satisfied: typing-extensions in /usr/local/lib/python3.10/dist-packages (from qiskit>=0.45.2->qiskit-aer) (4.12.2)\n",
            "Requirement already satisfied: symengine>=0.11 in /usr/local/lib/python3.10/dist-packages (from qiskit>=0.45.2->qiskit-aer) (0.11.0)\n",
            "Requirement already satisfied: six>=1.5 in /usr/local/lib/python3.10/dist-packages (from python-dateutil>=2.8.0->qiskit>=0.45.2->qiskit-aer) (1.16.0)\n",
            "Requirement already satisfied: pbr!=2.1.0,>=2.0.0 in /usr/local/lib/python3.10/dist-packages (from stevedore>=3.0.0->qiskit>=0.45.2->qiskit-aer) (6.0.0)\n",
            "Requirement already satisfied: mpmath<1.4.0,>=1.1.0 in /usr/local/lib/python3.10/dist-packages (from sympy>=1.3->qiskit>=0.45.2->qiskit-aer) (1.3.0)\n"
          ]
        }
      ]
    },
    {
      "cell_type": "code",
      "source": [
        "import numpy as np\n",
        "from qiskit import QuantumCircuit, transpile"
      ],
      "metadata": {
        "id": "4IJFcTvtLde6"
      },
      "execution_count": 3,
      "outputs": []
    },
    {
      "cell_type": "code",
      "source": [
        "!pip install pylatexenc"
      ],
      "metadata": {
        "colab": {
          "base_uri": "https://localhost:8080/"
        },
        "id": "U47iVrOka6ml",
        "outputId": "e5423af5-7d61-4931-c1e0-753fb71e34ec"
      },
      "execution_count": 10,
      "outputs": [
        {
          "output_type": "stream",
          "name": "stdout",
          "text": [
            "Requirement already satisfied: pylatexenc in /usr/local/lib/python3.10/dist-packages (2.10)\n"
          ]
        }
      ]
    },
    {
      "cell_type": "code",
      "source": [
        "import numpy as np\n",
        "from qiskit import QuantumCircuit, transpile\n",
        "from qiskit.quantum_info import Statevector, Operator\n",
        "\n",
        "# Define the density matrix ρA' from the previous calculation\n",
        "def create_density_matrix(state_vector):\n",
        "    state_vector = np.array(state_vector, dtype=complex)\n",
        "    return np.outer(state_vector, state_vector.conj())\n",
        "\n",
        "# Define Pauli matrices\n",
        "I = np.eye(2)\n",
        "T = np.array([[1, 0], [0, 1]]) # Transpose operation for single qubit (here it's just identity, since T is the transpose operation)\n",
        "\n",
        "# Define the Kronecker product for three qubits\n",
        "I_3 = np.kron(np.kron(I, I), I)\n",
        "T_3 = np.kron(np.kron(T, I), I)\n",
        "\n",
        "# Coefficients for the operators\n",
        "coeff1 = 1/10\n",
        "coeff2 = 1/5\n",
        "\n",
        "# Example: Define the initial density matrix ρABC\n",
        "# Here we use the pure state (|000⟩ + |111⟩) / sqrt(2) as an example\n",
        "basis_states = [\n",
        "    np.array([1, 0, 0, 0, 0, 0, 0, 0]),\n",
        "    np.array([0, 1, 0, 0, 0, 0, 0, 0]),\n",
        "    np.array([0, 0, 1, 0, 0, 0, 0, 0]),\n",
        "    np.array([0, 0, 0, 1, 0, 0, 0, 0]),\n",
        "    np.array([0, 0, 0, 0, 1, 0, 0, 0]),\n",
        "    np.array([0, 0, 0, 0, 0, 1, 0, 0]),\n",
        "    np.array([0, 0, 0, 0, 0, 0, 1, 0]),\n",
        "    np.array([0, 0, 0, 0, 0, 0, 0, 1])\n",
        "]\n",
        "\n",
        "# Define a superposition state (|000⟩ + |111⟩) / sqrt(2)\n",
        "superposition_state = (basis_states[0] + basis_states[7]) / np.sqrt(2)\n",
        "\n",
        "# Create the density matrix for this state\n",
        "rho_ABC = create_density_matrix(superposition_state)\n",
        "\n",
        "# Apply the SPA-PT map to the density matrix\n",
        "rho_A_prime = coeff1 * (np.kron(I, np.kron(I, I)) @ rho_ABC @ np.kron(I, np.kron(I, I)).conj().T) + coeff2 * (np.kron(T, np.kron(I, I)) @ rho_ABC @ np.kron(T, np.kron(I, I)).conj().T)\n",
        "\n",
        "# Print the resulting density matrix ρA′\n",
        "print(\"Density Matrix ρA′:\")\n",
        "print(rho_A_prime)\n",
        "\n",
        "# Perform eigen decomposition\n",
        "eigenvalues, eigenvectors = np.linalg.eigh(rho_A_prime)\n",
        "\n",
        "# Choose the eigenvector with the largest eigenvalue\n",
        "index_max = np.argmax(eigenvalues)\n",
        "eigvec_max = eigenvectors[:, index_max]\n",
        "\n",
        "# Ensure the state vector is normalized\n",
        "eigvec_max = eigvec_max / np.linalg.norm(eigvec_max)\n",
        "\n",
        "# Create the state vector from the eigenvector\n",
        "state = Statevector(eigvec_max)\n",
        "\n",
        "# Use Qiskit to create a QuantumCircuit\n",
        "qc = QuantumCircuit(3)\n",
        "qc.initialize(state.data, [0, 1, 2])\n",
        "\n",
        "# Decompose the unitary into a sequence of gates\n",
        "qc_decomposed = transpile(qc, basis_gates=['u3', 'cx'], optimization_level=3)\n",
        "\n",
        "# Print the decomposed circuit\n",
        "print(qc_decomposed)\n",
        "\n",
        "# Draw the circuit\n",
        "qc_decomposed.draw('mpl')\n"
      ],
      "metadata": {
        "colab": {
          "base_uri": "https://localhost:8080/",
          "height": 820
        },
        "id": "ylKqnAfIadnB",
        "outputId": "d8cf4c5b-7784-4321-bc9c-e782c718f626"
      },
      "execution_count": 1,
      "outputs": [
        {
          "output_type": "stream",
          "name": "stdout",
          "text": [
            "Density Matrix ρA′:\n",
            "[[0.15+0.j 0.  +0.j 0.  +0.j 0.  +0.j 0.  +0.j 0.  +0.j 0.  +0.j 0.15+0.j]\n",
            " [0.  +0.j 0.  +0.j 0.  +0.j 0.  +0.j 0.  +0.j 0.  +0.j 0.  +0.j 0.  +0.j]\n",
            " [0.  +0.j 0.  +0.j 0.  +0.j 0.  +0.j 0.  +0.j 0.  +0.j 0.  +0.j 0.  +0.j]\n",
            " [0.  +0.j 0.  +0.j 0.  +0.j 0.  +0.j 0.  +0.j 0.  +0.j 0.  +0.j 0.  +0.j]\n",
            " [0.  +0.j 0.  +0.j 0.  +0.j 0.  +0.j 0.  +0.j 0.  +0.j 0.  +0.j 0.  +0.j]\n",
            " [0.  +0.j 0.  +0.j 0.  +0.j 0.  +0.j 0.  +0.j 0.  +0.j 0.  +0.j 0.  +0.j]\n",
            " [0.  +0.j 0.  +0.j 0.  +0.j 0.  +0.j 0.  +0.j 0.  +0.j 0.  +0.j 0.  +0.j]\n",
            " [0.15+0.j 0.  +0.j 0.  +0.j 0.  +0.j 0.  +0.j 0.  +0.j 0.  +0.j 0.15+0.j]]\n",
            "global phase: 2.219\n",
            "              ┌─────────────┐                                ┌───┐»\n",
            "q_0: ─|0>─────┤ U3(π/4,0,0) ├────────────────────────────────┤ X ├»\n",
            "           ┌──┴─────────────┴───┐     ┌─────────────────────┐└─┬─┘»\n",
            "q_1: ─|0>──┤ U3(π/2,-0.64738,0) ├──■──┤ U3(π/2,π/2,0.64738) ├──■──»\n",
            "          ┌┴────────────────────┤┌─┴─┐└┬───────────────────┬┘     »\n",
            "q_2: ─|0>─┤ U3(1.8452,-π/2,π/2) ├┤ X ├─┤ U3(π/2,0.27439,0) ├──────»\n",
            "          └─────────────────────┘└───┘ └───────────────────┘      »\n",
            "«        ┌──────────────┐   ┌───┐┌─────────────┐      ┌───────────────┐  ┌───┐»\n",
            "«q_0: ───┤ U3(-π/4,0,0) ├───┤ X ├┤ U3(π/4,0,0) ├──■───┤ U3(π/4,π/2,0) ├──┤ X ├»\n",
            "«     ┌──┴──────────────┴──┐└─┬─┘└─────────────┘┌─┴─┐┌┴───────────────┴─┐└─┬─┘»\n",
            "«q_1: ┤ U3(π/2,-π,0.56139) ├──┼─────────────────┤ X ├┤ U3(π/2,1.0094,0) ├──┼──»\n",
            "«     └────────────────────┘  │                 └───┘└──────────────────┘  │  »\n",
            "«q_2: ────────────────────────■────────────────────────────────────────────■──»\n",
            "«                                                                             »\n",
            "«     ┌──────────────┐┌───┐\n",
            "«q_0: ┤ U3(0,0,-π/2) ├┤ X ├\n",
            "«     └──────────────┘└─┬─┘\n",
            "«q_1: ──────────────────■──\n",
            "«                          \n",
            "«q_2: ─────────────────────\n",
            "«                          \n"
          ]
        },
        {
          "output_type": "execute_result",
          "data": {
            "text/plain": [
              "<Figure size 1541.66x284.278 with 1 Axes>"
            ],
            "image/png": "[encoded data removed]"
          },
          "metadata": {},
          "execution_count": 1
        }
      ]
    }
  ]
}