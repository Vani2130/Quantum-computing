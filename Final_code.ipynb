{
  "nbformat": 4,
  "nbformat_minor": 0,
  "metadata": {
    "colab": {
      "provenance": [],
      "authorship_tag": "ABX9TyPnCHNIqwfnqwtzIhah0hid",
      "include_colab_link": true
    },
    "kernelspec": {
      "name": "python3",
      "display_name": "Python 3"
    },
    "language_info": {
      "name": "python"
    }
  },
  "cells": [
    {
      "cell_type": "markdown",
      "metadata": {
        "id": "view-in-github",
        "colab_type": "text"
      },
      "source": [
        "<a href=\"https://colab.research.google.com/github/Vani2130/Quantum-computing/blob/main/Final_code.ipynb\" target=\"_parent\"><img src=\"https://colab.research.google.com/assets/colab-badge.svg\" alt=\"Open In Colab\"/></a>"
      ]
    },
    {
      "cell_type": "code",
      "execution_count": 1,
      "metadata": {
        "colab": {
          "base_uri": "https://localhost:8080/"
        },
        "id": "MD3A3lfVjRLd",
        "outputId": "db99d651-b154-4375-b093-d98ec44292ac"
      },
      "outputs": [
        {
          "output_type": "execute_result",
          "data": {
            "text/plain": [
              "array([[0.        , 0.        , 0.        , 0.        , 0.        ,\n",
              "        0.        , 0.        , 0.        ],\n",
              "       [0.        , 0.33333333, 0.33333333, 0.        , 0.33333333,\n",
              "        0.        , 0.        , 0.        ],\n",
              "       [0.        , 0.33333333, 0.33333333, 0.        , 0.33333333,\n",
              "        0.        , 0.        , 0.        ],\n",
              "       [0.        , 0.        , 0.        , 0.        , 0.        ,\n",
              "        0.        , 0.        , 0.        ],\n",
              "       [0.        , 0.33333333, 0.33333333, 0.        , 0.33333333,\n",
              "        0.        , 0.        , 0.        ],\n",
              "       [0.        , 0.        , 0.        , 0.        , 0.        ,\n",
              "        0.        , 0.        , 0.        ],\n",
              "       [0.        , 0.        , 0.        , 0.        , 0.        ,\n",
              "        0.        , 0.        , 0.        ],\n",
              "       [0.        , 0.        , 0.        , 0.        , 0.        ,\n",
              "        0.        , 0.        , 0.        ]])"
            ]
          },
          "metadata": {},
          "execution_count": 1
        }
      ],
      "source": [
        "import numpy as np\n",
        "\n",
        "# Define the W state vector\n",
        "W_state = (1/np.sqrt(3)) * np.array([0, 1, 1, 0, 1, 0, 0, 0])\n",
        "\n",
        "# Compute the density matrix as the outer product |W><W|\n",
        "density_matrix = np.outer(W_state, W_state.conj())\n",
        "\n",
        "# Display the density matrix\n",
        "density_matrix\n"
      ]
    },
    {
      "cell_type": "code",
      "source": [
        "import numpy as np\n",
        "\n",
        "# Define the identity matrix I and the T matrix\n",
        "I = np.eye(2)\n",
        "T = np.array([[1, 0], [0, 0]])\n",
        "\n",
        "# Define the W state vector and its density matrix\n",
        "W_state = (1/np.sqrt(3)) * np.array([0, 1, 1, 0, 1, 0, 0, 0])\n",
        "rho_ABC = np.outer(W_state, W_state.conj())\n",
        "\n",
        "# Compute the Kronecker products\n",
        "I_I_I = np.kron(np.kron(I, I), I)\n",
        "T_I_I = np.kron(np.kron(T, I), I)\n",
        "\n",
        "# Define the coefficients\n",
        "coef1 = 1/10\n",
        "coef2 = 1/5\n",
        "\n",
        "# Compute the new density matrix\n",
        "new_density_matrix = coef1 * I_I_I + coef2 * (T_I_I @ rho_ABC @ T_I_I.T.conj())\n",
        "\n",
        "# Display the new density matrix\n",
        "new_density_matrix\n"
      ],
      "metadata": {
        "colab": {
          "base_uri": "https://localhost:8080/"
        },
        "id": "N9gbY4CZnHDv",
        "outputId": "98cc4544-e1c6-4f9c-9f30-f23267412404"
      },
      "execution_count": 2,
      "outputs": [
        {
          "output_type": "execute_result",
          "data": {
            "text/plain": [
              "array([[0.1       , 0.        , 0.        , 0.        , 0.        ,\n",
              "        0.        , 0.        , 0.        ],\n",
              "       [0.        , 0.16666667, 0.06666667, 0.        , 0.        ,\n",
              "        0.        , 0.        , 0.        ],\n",
              "       [0.        , 0.06666667, 0.16666667, 0.        , 0.        ,\n",
              "        0.        , 0.        , 0.        ],\n",
              "       [0.        , 0.        , 0.        , 0.1       , 0.        ,\n",
              "        0.        , 0.        , 0.        ],\n",
              "       [0.        , 0.        , 0.        , 0.        , 0.1       ,\n",
              "        0.        , 0.        , 0.        ],\n",
              "       [0.        , 0.        , 0.        , 0.        , 0.        ,\n",
              "        0.1       , 0.        , 0.        ],\n",
              "       [0.        , 0.        , 0.        , 0.        , 0.        ,\n",
              "        0.        , 0.1       , 0.        ],\n",
              "       [0.        , 0.        , 0.        , 0.        , 0.        ,\n",
              "        0.        , 0.        , 0.1       ]])"
            ]
          },
          "metadata": {},
          "execution_count": 2
        }
      ]
    },
    {
      "cell_type": "code",
      "source": [
        "import numpy as np\n",
        "from scipy.linalg import eigh\n",
        "\n",
        "# Define the initial density matrix rho_1 (density matrix of the W state)\n",
        "W_state = (1/np.sqrt(3)) * np.array([0, 1, 1, 0, 1, 0, 0, 0])\n",
        "rho_1 = np.outer(W_state, W_state.conj())\n",
        "\n",
        "# Define the target density matrix rho_2\n",
        "I = np.eye(2)\n",
        "T = np.array([[1, 0], [0, 0]])\n",
        "I_I_I = np.kron(np.kron(I, I), I)\n",
        "T_I_I = np.kron(np.kron(T, I), I)\n",
        "\n",
        "coef1 = 1/10\n",
        "coef2 = 1/5\n",
        "\n",
        "rho_2 = coef1 * I_I_I + coef2 * (T_I_I @ rho_1 @ T_I_I.T.conj())\n",
        "\n",
        "# Diagonalize both density matrices\n",
        "eigvals_1, eigvecs_1 = eigh(rho_1)\n",
        "eigvals_2, eigvecs_2 = eigh(rho_2)\n",
        "\n",
        "# Construct the unitary matrix U\n",
        "U = eigvecs_2 @ eigvecs_1.T.conj()\n",
        "\n",
        "# Verify the transformation\n",
        "transformed_rho_1 = U @ rho_1 @ U.T.conj()\n",
        "\n",
        "# Display the results\n",
        "print(\"Eigenvalues of rho_1:\")\n",
        "print(eigvals_1)\n",
        "print(\"\\nEigenvectors of rho_1:\")\n",
        "print(eigvecs_1)\n",
        "print(\"\\nEigenvalues of rho_2:\")\n",
        "print(eigvals_2)\n",
        "print(\"\\nEigenvectors of rho_2:\")\n",
        "print(eigvecs_2)\n",
        "print(\"\\nUnitary transformation matrix U:\")\n",
        "print(U)\n",
        "print(\"\\nTransformed rho_1 (should be close to rho_2):\")\n",
        "print(transformed_rho_1)\n",
        "print(\"\\nTarget density matrix rho_2:\")\n",
        "print(rho_2)\n"
      ],
      "metadata": {
        "colab": {
          "base_uri": "https://localhost:8080/"
        },
        "id": "FZ27gc8noG34",
        "outputId": "a5b503aa-236c-4bf2-b07d-15b24e854ae6"
      },
      "execution_count": 3,
      "outputs": [
        {
          "output_type": "stream",
          "name": "stdout",
          "text": [
            "Eigenvalues of rho_1:\n",
            "[0.00000000e+00 0.00000000e+00 0.00000000e+00 0.00000000e+00\n",
            " 0.00000000e+00 0.00000000e+00 2.22044605e-16 1.00000000e+00]\n",
            "\n",
            "Eigenvectors of rho_1:\n",
            "[[ 1.          0.          0.          0.          0.          0.\n",
            "   0.          0.        ]\n",
            " [ 0.          0.          0.          0.          0.          0.\n",
            "   0.81649658 -0.57735027]\n",
            " [ 0.         -0.70710678  0.          0.          0.          0.\n",
            "  -0.40824829 -0.57735027]\n",
            " [ 0.          0.          1.          0.          0.          0.\n",
            "   0.          0.        ]\n",
            " [ 0.          0.70710678  0.          0.          0.          0.\n",
            "  -0.40824829 -0.57735027]\n",
            " [ 0.          0.          0.          1.          0.          0.\n",
            "   0.          0.        ]\n",
            " [ 0.          0.          0.          0.          1.          0.\n",
            "   0.          0.        ]\n",
            " [ 0.          0.          0.          0.          0.          1.\n",
            "   0.          0.        ]]\n",
            "\n",
            "Eigenvalues of rho_2:\n",
            "[0.1        0.1        0.1        0.1        0.1        0.1\n",
            " 0.1        0.23333333]\n",
            "\n",
            "Eigenvectors of rho_2:\n",
            "[[ 1.          0.          0.          0.          0.          0.\n",
            "   0.          0.        ]\n",
            " [ 0.          0.          0.          0.          0.          0.\n",
            "  -0.70710678  0.70710678]\n",
            " [ 0.          0.          0.          0.          0.          0.\n",
            "   0.70710678  0.70710678]\n",
            " [ 0.          1.          0.          0.          0.          0.\n",
            "   0.          0.        ]\n",
            " [ 0.          0.          1.          0.          0.          0.\n",
            "   0.          0.        ]\n",
            " [ 0.          0.          0.          1.          0.          0.\n",
            "   0.          0.        ]\n",
            " [ 0.          0.          0.          0.          1.          0.\n",
            "   0.          0.        ]\n",
            " [ 0.          0.          0.          0.          0.          1.\n",
            "   0.          0.        ]]\n",
            "\n",
            "Unitary transformation matrix U:\n",
            "[[ 1.          0.          0.          0.          0.          0.\n",
            "   0.          0.        ]\n",
            " [ 0.         -0.98559856 -0.11957316  0.         -0.11957316  0.\n",
            "   0.          0.        ]\n",
            " [ 0.          0.16910198 -0.69692343  0.         -0.69692343  0.\n",
            "   0.          0.        ]\n",
            " [ 0.          0.         -0.70710678  0.          0.70710678  0.\n",
            "   0.          0.        ]\n",
            " [ 0.          0.          0.          1.          0.          0.\n",
            "   0.          0.        ]\n",
            " [ 0.          0.          0.          0.          0.          1.\n",
            "   0.          0.        ]\n",
            " [ 0.          0.          0.          0.          0.          0.\n",
            "   1.          0.        ]\n",
            " [ 0.          0.          0.          0.          0.          0.\n",
            "   0.          1.        ]]\n",
            "\n",
            "Transformed rho_1 (should be close to rho_2):\n",
            "[[ 0.00000000e+00  0.00000000e+00  0.00000000e+00  0.00000000e+00\n",
            "   0.00000000e+00  0.00000000e+00  0.00000000e+00  0.00000000e+00]\n",
            " [ 0.00000000e+00  5.00000000e-01  5.00000000e-01 -3.70692371e-17\n",
            "   0.00000000e+00  0.00000000e+00  0.00000000e+00  0.00000000e+00]\n",
            " [ 0.00000000e+00  5.00000000e-01  5.00000000e-01 -2.08103973e-17\n",
            "   0.00000000e+00  0.00000000e+00  0.00000000e+00  0.00000000e+00]\n",
            " [ 0.00000000e+00 -3.47987801e-17 -3.47987801e-17  2.21574292e-33\n",
            "   0.00000000e+00  0.00000000e+00  0.00000000e+00  0.00000000e+00]\n",
            " [ 0.00000000e+00  0.00000000e+00  0.00000000e+00  0.00000000e+00\n",
            "   0.00000000e+00  0.00000000e+00  0.00000000e+00  0.00000000e+00]\n",
            " [ 0.00000000e+00  0.00000000e+00  0.00000000e+00  0.00000000e+00\n",
            "   0.00000000e+00  0.00000000e+00  0.00000000e+00  0.00000000e+00]\n",
            " [ 0.00000000e+00  0.00000000e+00  0.00000000e+00  0.00000000e+00\n",
            "   0.00000000e+00  0.00000000e+00  0.00000000e+00  0.00000000e+00]\n",
            " [ 0.00000000e+00  0.00000000e+00  0.00000000e+00  0.00000000e+00\n",
            "   0.00000000e+00  0.00000000e+00  0.00000000e+00  0.00000000e+00]]\n",
            "\n",
            "Target density matrix rho_2:\n",
            "[[0.1        0.         0.         0.         0.         0.\n",
            "  0.         0.        ]\n",
            " [0.         0.16666667 0.06666667 0.         0.         0.\n",
            "  0.         0.        ]\n",
            " [0.         0.06666667 0.16666667 0.         0.         0.\n",
            "  0.         0.        ]\n",
            " [0.         0.         0.         0.1        0.         0.\n",
            "  0.         0.        ]\n",
            " [0.         0.         0.         0.         0.1        0.\n",
            "  0.         0.        ]\n",
            " [0.         0.         0.         0.         0.         0.1\n",
            "  0.         0.        ]\n",
            " [0.         0.         0.         0.         0.         0.\n",
            "  0.1        0.        ]\n",
            " [0.         0.         0.         0.         0.         0.\n",
            "  0.         0.1       ]]\n"
          ]
        }
      ]
    },
    {
      "cell_type": "code",
      "source": [
        "!pip install qiskit"
      ],
      "metadata": {
        "colab": {
          "base_uri": "https://localhost:8080/"
        },
        "id": "XTePAR5oiUS5",
        "outputId": "f4c268e6-27ff-4187-839b-41351b2d89c3"
      },
      "execution_count": 1,
      "outputs": [
        {
          "output_type": "stream",
          "name": "stdout",
          "text": [
            "Collecting qiskit\n",
            "  Downloading qiskit-1.1.1-cp38-abi3-manylinux_2_17_x86_64.manylinux2014_x86_64.whl (4.3 MB)\n",
            "\u001b[2K     \u001b[90m━━━━━━━━━━━━━━━━━━━━━━━━━━━━━━━━━━━━━━━━\u001b[0m \u001b[32m4.3/4.3 MB\u001b[0m \u001b[31m11.1 MB/s\u001b[0m eta \u001b[36m0:00:00\u001b[0m\n",
            "\u001b[?25hCollecting rustworkx>=0.14.0 (from qiskit)\n",
            "  Downloading rustworkx-0.15.1-cp38-abi3-manylinux_2_17_x86_64.manylinux2014_x86_64.whl (2.0 MB)\n",
            "\u001b[2K     \u001b[90m━━━━━━━━━━━━━━━━━━━━━━━━━━━━━━━━━━━━━━━━\u001b[0m \u001b[32m2.0/2.0 MB\u001b[0m \u001b[31m20.6 MB/s\u001b[0m eta \u001b[36m0:00:00\u001b[0m\n",
            "\u001b[?25hRequirement already satisfied: numpy<3,>=1.17 in /usr/local/lib/python3.10/dist-packages (from qiskit) (1.25.2)\n",
            "Requirement already satisfied: scipy>=1.5 in /usr/local/lib/python3.10/dist-packages (from qiskit) (1.11.4)\n",
            "Requirement already satisfied: sympy>=1.3 in /usr/local/lib/python3.10/dist-packages (from qiskit) (1.12.1)\n",
            "Collecting dill>=0.3 (from qiskit)\n",
            "  Downloading dill-0.3.8-py3-none-any.whl (116 kB)\n",
            "\u001b[2K     \u001b[90m━━━━━━━━━━━━━━━━━━━━━━━━━━━━━━━━━━━━━━━━\u001b[0m \u001b[32m116.3/116.3 kB\u001b[0m \u001b[31m11.3 MB/s\u001b[0m eta \u001b[36m0:00:00\u001b[0m\n",
            "\u001b[?25hRequirement already satisfied: python-dateutil>=2.8.0 in /usr/local/lib/python3.10/dist-packages (from qiskit) (2.8.2)\n",
            "Collecting stevedore>=3.0.0 (from qiskit)\n",
            "  Downloading stevedore-5.2.0-py3-none-any.whl (49 kB)\n",
            "\u001b[2K     \u001b[90m━━━━━━━━━━━━━━━━━━━━━━━━━━━━━━━━━━━━━━━━\u001b[0m \u001b[32m49.7/49.7 kB\u001b[0m \u001b[31m5.4 MB/s\u001b[0m eta \u001b[36m0:00:00\u001b[0m\n",
            "\u001b[?25hRequirement already satisfied: typing-extensions in /usr/local/lib/python3.10/dist-packages (from qiskit) (4.12.2)\n",
            "Collecting symengine>=0.11 (from qiskit)\n",
            "  Downloading symengine-0.11.0-cp310-cp310-manylinux_2_12_x86_64.manylinux2010_x86_64.whl (39.4 MB)\n",
            "\u001b[2K     \u001b[90m━━━━━━━━━━━━━━━━━━━━━━━━━━━━━━━━━━━━━━━━\u001b[0m \u001b[32m39.4/39.4 MB\u001b[0m \u001b[31m11.9 MB/s\u001b[0m eta \u001b[36m0:00:00\u001b[0m\n",
            "\u001b[?25hRequirement already satisfied: six>=1.5 in /usr/local/lib/python3.10/dist-packages (from python-dateutil>=2.8.0->qiskit) (1.16.0)\n",
            "Collecting pbr!=2.1.0,>=2.0.0 (from stevedore>=3.0.0->qiskit)\n",
            "  Downloading pbr-6.0.0-py2.py3-none-any.whl (107 kB)\n",
            "\u001b[2K     \u001b[90m━━━━━━━━━━━━━━━━━━━━━━━━━━━━━━━━━━━━━━━━\u001b[0m \u001b[32m107.5/107.5 kB\u001b[0m \u001b[31m11.2 MB/s\u001b[0m eta \u001b[36m0:00:00\u001b[0m\n",
            "\u001b[?25hRequirement already satisfied: mpmath<1.4.0,>=1.1.0 in /usr/local/lib/python3.10/dist-packages (from sympy>=1.3->qiskit) (1.3.0)\n",
            "Installing collected packages: symengine, rustworkx, pbr, dill, stevedore, qiskit\n",
            "Successfully installed dill-0.3.8 pbr-6.0.0 qiskit-1.1.1 rustworkx-0.15.1 stevedore-5.2.0 symengine-0.11.0\n"
          ]
        }
      ]
    },
    {
      "cell_type": "code",
      "source": [
        "from qiskit import QuantumCircuit\n",
        "from qiskit.circuit.library import UnitaryGate\n",
        "import numpy as np\n",
        "\n",
        "# Define the unitary matrix U\n",
        "U = np.array([\n",
        "    [1.        ,  0.        ,  0.        ,  0.        ,  0.        ,  0.        ,  0.        ,  0.        ],\n",
        "    [0.        , -0.98559856, -0.11957316,  0.        , -0.11957316,  0.        ,  0.        ,  0.        ],\n",
        "    [0.        ,  0.16910198, -0.69692343,  0.        , -0.69692343,  0.        ,  0.        ,  0.        ],\n",
        "    [0.        ,  0.        , -0.70710678,  0.        ,  0.70710678,  0.        ,  0.        ,  0.        ],\n",
        "    [0.        ,  0.        ,  0.        ,  1.        ,  0.        ,  0.        ,  0.        ,  0.        ],\n",
        "    [0.        ,  0.        ,  0.        ,  0.        ,  0.        ,  1.        ,  0.        ,  0.        ],\n",
        "    [0.        ,  0.        ,  0.        ,  0.        ,  0.        ,  0.        ,  1.        ,  0.        ],\n",
        "    [0.        ,  0.        ,  0.        ,  0.        ,  0.        ,  0.        ,  0.        ,  1.        ]\n",
        "])\n",
        "\n",
        "# Create a quantum circuit with 3 qubits\n",
        "qc = QuantumCircuit(3)\n",
        "\n",
        "# Add the unitary operation as a gate\n",
        "unitary_gate = UnitaryGate(U)\n",
        "qc.append(unitary_gate, [0, 1, 2])\n",
        "\n",
        "# Print the quantum circuit\n",
        "print(qc)\n"
      ],
      "metadata": {
        "colab": {
          "base_uri": "https://localhost:8080/"
        },
        "id": "URKbepCHh-Zh",
        "outputId": "15d8cef3-0a17-40b8-956f-eff024a37f37"
      },
      "execution_count": 3,
      "outputs": [
        {
          "output_type": "stream",
          "name": "stdout",
          "text": [
            "     ┌──────────┐\n",
            "q_0: ┤0         ├\n",
            "     │          │\n",
            "q_1: ┤1 Unitary ├\n",
            "     │          │\n",
            "q_2: ┤2         ├\n",
            "     └──────────┘\n"
          ]
        }
      ]
    },
    {
      "cell_type": "code",
      "source": [
        "import numpy as np\n",
        "\n",
        "# Define the given unitary matrix U\n",
        "U = np.array([\n",
        "    [1.        ,  0.        ,  0.        ,  0.        ,  0.        ,  0.        ,  0.        ,  0.        ],\n",
        "    [0.        , -0.98559856, -0.11957316,  0.        , -0.11957316,  0.        ,  0.        ,  0.        ],\n",
        "    [0.        ,  0.16910198, -0.69692343,  0.        , -0.69692343,  0.        ,  0.        ,  0.        ],\n",
        "    [0.        ,  0.        , -0.70710678,  0.        ,  0.70710678,  0.        ,  0.        ,  0.        ],\n",
        "    [0.        ,  0.        ,  0.        ,  1.        ,  0.        ,  0.        ,  0.        ,  0.        ],\n",
        "    [0.        ,  0.        ,  0.        ,  0.        ,  0.        ,  1.        ,  0.        ,  0.        ],\n",
        "    [0.        ,  0.        ,  0.        ,  0.        ,  0.        ,  0.        ,  1.        ,  0.        ],\n",
        "    [0.        ,  0.        ,  0.        ,  0.        ,  0.        ,  0.        ,  0.        ,  1.        ]\n",
        "])\n",
        "\n",
        "# Extract state vectors from the columns of U\n",
        "nu_1 = U[:, 0]\n",
        "nu_2 = U[:, 1]\n",
        "nu_3 = U[:, 2]\n",
        "nu_4 = U[:, 3]\n",
        "\n",
        "# Normalize the state vectors\n",
        "nu_1 /= np.linalg.norm(nu_1)\n",
        "nu_2 /= np.linalg.norm(nu_2)\n",
        "nu_3 /= np.linalg.norm(nu_3)\n",
        "nu_4 /= np.linalg.norm(nu_4)\n",
        "\n",
        "# Print the normalized state vectors\n",
        "print(\"Normalized state vectors:\")\n",
        "print(\"nu_1:\", nu_1)\n",
        "print(\"nu_2:\", nu_2)\n",
        "print(\"nu_3:\", nu_3)\n",
        "print(\"nu_4:\", nu_4)\n"
      ],
      "metadata": {
        "colab": {
          "base_uri": "https://localhost:8080/"
        },
        "id": "9Xk61DdZB79I",
        "outputId": "a7b60d53-2917-497e-d081-d6502ae1e2ac"
      },
      "execution_count": 4,
      "outputs": [
        {
          "output_type": "stream",
          "name": "stdout",
          "text": [
            "Normalized state vectors:\n",
            "nu_1: [1. 0. 0. 0. 0. 0. 0. 0.]\n",
            "nu_2: [ 0.         -0.98559856  0.16910198  0.          0.          0.\n",
            "  0.          0.        ]\n",
            "nu_3: [ 0.         -0.11957316 -0.69692343 -0.70710678  0.          0.\n",
            "  0.          0.        ]\n",
            "nu_4: [0. 0. 0. 0. 1. 0. 0. 0.]\n"
          ]
        }
      ]
    },
    {
      "cell_type": "code",
      "source": [
        "# Reconstruct the unitary matrix using the projection operators\n",
        "U_reconstructed = P_1 + P_2 + P_3 + P_4\n",
        "\n",
        "# Print the reconstructed unitary matrix\n",
        "print(\"Reconstructed unitary matrix:\")\n",
        "print(U_reconstructed)\n",
        "\n",
        "# Verify that the reconstructed matrix matches the original matrix\n",
        "print(\"Original unitary matrix:\")\n",
        "print(U)\n",
        "print(\"Difference:\")\n",
        "print(U - U_reconstructed)\n"
      ],
      "metadata": {
        "colab": {
          "base_uri": "https://localhost:8080/"
        },
        "id": "lhEy5bZQCUtq",
        "outputId": "d4dcff50-b8eb-40c6-debc-54c13c6e6b11"
      },
      "execution_count": 6,
      "outputs": [
        {
          "output_type": "stream",
          "name": "stdout",
          "text": [
            "Reconstructed unitary matrix:\n",
            "[[ 1.          0.          0.          0.          0.          0.\n",
            "   0.          0.        ]\n",
            " [ 0.          0.98570226 -0.08333333  0.08455099  0.          0.\n",
            "   0.          0.        ]\n",
            " [ 0.         -0.08333333  0.51429774  0.49279928  0.          0.\n",
            "   0.          0.        ]\n",
            " [ 0.          0.08455099  0.49279928  0.5         0.          0.\n",
            "   0.          0.        ]\n",
            " [ 0.          0.          0.          0.          1.          0.\n",
            "   0.          0.        ]\n",
            " [ 0.          0.          0.          0.          0.          0.\n",
            "   0.          0.        ]\n",
            " [ 0.          0.          0.          0.          0.          0.\n",
            "   0.          0.        ]\n",
            " [ 0.          0.          0.          0.          0.          0.\n",
            "   0.          0.        ]]\n",
            "Original unitary matrix:\n",
            "[[ 1.          0.          0.          0.          0.          0.\n",
            "   0.          0.        ]\n",
            " [ 0.         -0.98559856 -0.11957316  0.         -0.11957316  0.\n",
            "   0.          0.        ]\n",
            " [ 0.          0.16910198 -0.69692343  0.         -0.69692343  0.\n",
            "   0.          0.        ]\n",
            " [ 0.          0.         -0.70710678  0.          0.70710678  0.\n",
            "   0.          0.        ]\n",
            " [ 0.          0.          0.          1.          0.          0.\n",
            "   0.          0.        ]\n",
            " [ 0.          0.          0.          0.          0.          1.\n",
            "   0.          0.        ]\n",
            " [ 0.          0.          0.          0.          0.          0.\n",
            "   1.          0.        ]\n",
            " [ 0.          0.          0.          0.          0.          0.\n",
            "   0.          1.        ]]\n",
            "Difference:\n",
            "[[ 0.          0.          0.          0.          0.          0.\n",
            "   0.          0.        ]\n",
            " [ 0.         -1.97130082 -0.03623983 -0.08455099 -0.11957316  0.\n",
            "   0.          0.        ]\n",
            " [ 0.          0.25243531 -1.21122117 -0.49279928 -0.69692343  0.\n",
            "   0.          0.        ]\n",
            " [ 0.         -0.08455099 -1.19990606 -0.5         0.70710678  0.\n",
            "   0.          0.        ]\n",
            " [ 0.          0.          0.          1.         -1.          0.\n",
            "   0.          0.        ]\n",
            " [ 0.          0.          0.          0.          0.          1.\n",
            "   0.          0.        ]\n",
            " [ 0.          0.          0.          0.          0.          0.\n",
            "   1.          0.        ]\n",
            " [ 0.          0.          0.          0.          0.          0.\n",
            "   0.          1.        ]]\n"
          ]
        }
      ]
    },
    {
      "cell_type": "code",
      "source": [
        "# Compute the projection operators\n",
        "P_1 = np.outer(nu_1, np.conjugate(nu_1))\n",
        "P_2 = np.outer(nu_2, np.conjugate(nu_2))\n",
        "P_3 = np.outer(nu_3, np.conjugate(nu_3))\n",
        "P_4 = np.outer(nu_4, np.conjugate(nu_4))\n",
        "\n",
        "# Print the projection operators\n",
        "print(\"Projection operators:\")\n",
        "print(\"P_1:\\n\", P_1)\n",
        "print(\"P_2:\\n\", P_2)\n",
        "print(\"P_3:\\n\", P_3)\n",
        "print(\"P_4:\\n\", P_4)\n"
      ],
      "metadata": {
        "colab": {
          "base_uri": "https://localhost:8080/"
        },
        "id": "pEGtA9BVCO-v",
        "outputId": "42e8fad7-58c4-4a1c-8938-e6f93c43164c"
      },
      "execution_count": 5,
      "outputs": [
        {
          "output_type": "stream",
          "name": "stdout",
          "text": [
            "Projection operators:\n",
            "P_1:\n",
            " [[1. 0. 0. 0. 0. 0. 0. 0.]\n",
            " [0. 0. 0. 0. 0. 0. 0. 0.]\n",
            " [0. 0. 0. 0. 0. 0. 0. 0.]\n",
            " [0. 0. 0. 0. 0. 0. 0. 0.]\n",
            " [0. 0. 0. 0. 0. 0. 0. 0.]\n",
            " [0. 0. 0. 0. 0. 0. 0. 0.]\n",
            " [0. 0. 0. 0. 0. 0. 0. 0.]\n",
            " [0. 0. 0. 0. 0. 0. 0. 0.]]\n",
            "P_2:\n",
            " [[ 0.         -0.          0.          0.          0.          0.\n",
            "   0.          0.        ]\n",
            " [-0.          0.97140452 -0.16666667 -0.         -0.         -0.\n",
            "  -0.         -0.        ]\n",
            " [ 0.         -0.16666667  0.02859548  0.          0.          0.\n",
            "   0.          0.        ]\n",
            " [ 0.         -0.          0.          0.          0.          0.\n",
            "   0.          0.        ]\n",
            " [ 0.         -0.          0.          0.          0.          0.\n",
            "   0.          0.        ]\n",
            " [ 0.         -0.          0.          0.          0.          0.\n",
            "   0.          0.        ]\n",
            " [ 0.         -0.          0.          0.          0.          0.\n",
            "   0.          0.        ]\n",
            " [ 0.         -0.          0.          0.          0.          0.\n",
            "   0.          0.        ]]\n",
            "P_3:\n",
            " [[ 0.         -0.         -0.         -0.          0.          0.\n",
            "   0.          0.        ]\n",
            " [-0.          0.01429774  0.08333334  0.08455099 -0.         -0.\n",
            "  -0.         -0.        ]\n",
            " [-0.          0.08333334  0.48570226  0.49279928 -0.         -0.\n",
            "  -0.         -0.        ]\n",
            " [-0.          0.08455099  0.49279928  0.5        -0.         -0.\n",
            "  -0.         -0.        ]\n",
            " [ 0.         -0.         -0.         -0.          0.          0.\n",
            "   0.          0.        ]\n",
            " [ 0.         -0.         -0.         -0.          0.          0.\n",
            "   0.          0.        ]\n",
            " [ 0.         -0.         -0.         -0.          0.          0.\n",
            "   0.          0.        ]\n",
            " [ 0.         -0.         -0.         -0.          0.          0.\n",
            "   0.          0.        ]]\n",
            "P_4:\n",
            " [[0. 0. 0. 0. 0. 0. 0. 0.]\n",
            " [0. 0. 0. 0. 0. 0. 0. 0.]\n",
            " [0. 0. 0. 0. 0. 0. 0. 0.]\n",
            " [0. 0. 0. 0. 0. 0. 0. 0.]\n",
            " [0. 0. 0. 0. 1. 0. 0. 0.]\n",
            " [0. 0. 0. 0. 0. 0. 0. 0.]\n",
            " [0. 0. 0. 0. 0. 0. 0. 0.]\n",
            " [0. 0. 0. 0. 0. 0. 0. 0.]]\n"
          ]
        }
      ]
    }
  ]
}